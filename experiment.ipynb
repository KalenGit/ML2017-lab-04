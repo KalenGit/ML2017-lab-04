{
 "cells": [
  {
   "cell_type": "code",
   "execution_count": 7,
   "metadata": {
    "collapsed": true
   },
   "outputs": [],
   "source": [
    "import numpy\n",
    "import numpy as np\n",
    "import matplotlib.pyplot as plt"
   ]
  },
  {
   "cell_type": "code",
   "execution_count": 8,
   "metadata": {},
   "outputs": [],
   "source": [
    "#处理数据\n",
    "def getData(filename):\n",
    "    # R由943个用户对1682个电影的10000条评分组成\n",
    "    # 初始化用户x电影矩阵为0\n",
    "    R = np.zeros((943, 1682))\n",
    "    for line in open(filename, 'r'):\n",
    "        #(用户，电影，评分，时间)\n",
    "        (user, movieid, rating, ts) = line.split('\\t')\n",
    "        #R[int(user) - 1, int(movieid) - 1]代表第(user) - 1个用户对第int(movieid) - 1个电影的评分，这里减1是用户和电影从1号开始连续编号\n",
    "        R[int(user) - 1, int(movieid) - 1] = float(rating)\n",
    "    return R"
   ]
  },
  {
   "cell_type": "code",
   "execution_count": 9,
   "metadata": {},
   "outputs": [],
   "source": [
    "def getLoss(R_train,R_valid, P, Q, K, steps=5000, alpha=0.0002, beta=0.02):\n",
    "    #Loss_valid列表保存每次迭代后的loss\n",
    "    Loss_valid=[]\n",
    "    #Q.T代表Q转置\n",
    "    Q = Q.T\n",
    "    for step in range(steps):\n",
    "        #随机选一个数据进行梯度更新计算(随机梯度思想)\n",
    "        i = np.random.randint(len(R_train))\n",
    "        for j in range(len(R_train[i])):\n",
    "            #只有R_train[i][j]评分>0时候，才计算P,Q\n",
    "            if R_train[i][j] > 0:\n",
    "                var0=(numpy.dot(P[i, :], Q[:, j]))\n",
    "                eij = (R_train[i][j] - var0)\n",
    "                for k in range(K):\n",
    "                    var1=(2 * eij * Q[k][j])\n",
    "                    var2=(beta * P[i][k])\n",
    "                    var3=var1 - var2\n",
    "                    P[i][k] =( P[i][k] + alpha * (var3))\n",
    "                    Q[k][j] = (Q[k][j] + alpha * (2 * eij * P[i][k] - beta * Q[k][j]))\n",
    "        #新的P*Q得到eR = (numpy.dot(P,Q))\n",
    "        e = np.longfloat(0.0)\n",
    "        #统计R_valid[i][j] > 0的个数\n",
    "        count=0\n",
    "        #只计算R_valid[i][j] > 0部分的误差和正则化部分的误差\n",
    "        for i in range(len(R_valid)):\n",
    "            for j in range(len(R_valid[i])):\n",
    "                if R_valid[i][j] > 0:\n",
    "                    count+=1\n",
    "                    e = e + pow(R_valid[i][j] - numpy.dot(P[i, :], Q[:, j]), 2)\n",
    "                    for k in range(K):\n",
    "                        e = e + (beta / 2) * (pow(P[i][k], 2) + pow(Q[k][j], 2))\n",
    "        e=e/count\n",
    "        Loss_valid.append(e)\n",
    "      #  print(e)\n",
    "    return Loss_valid"
   ]
  },
  {
   "cell_type": "code",
   "execution_count": 10,
   "metadata": {},
   "outputs": [],
   "source": [
    "def runMain():\n",
    "    R_train = getData(r\"C:\\workspace\\DeepLearningTest\\data\\u1.base\")\n",
    "    R_valid = getData(r\"C:\\workspace\\DeepLearningTest\\data\\u1.test\")\n",
    "    R_train = numpy.array(R_train)\n",
    "    R_valid = numpy.array(R_valid)\n",
    "    #user_num代表评分用户的总数量，movie_num代表被评分的电影总数量\n",
    "    user_num, movie_num = R_train.shape\n",
    "\n",
    "    #利用矩阵分解的思想构造R=PXQ  即 N*M=N*K * (M*K).T = N*M 这里k参数取值2\n",
    "    N = user_num\n",
    "    M = movie_num\n",
    "    K = 10\n",
    "\n",
    "    P = np.random.rand(N, K)\n",
    "    Q = np.random.rand(M, K)\n",
    "    #alpha是学习率参数\n",
    "    alpha = 0.02\n",
    "    #beta是正则化参数\n",
    "    beta = 0.02\n",
    "    #steps是迭代次数参数\n",
    "    steps=1000\n",
    "\n",
    "    loss = getLoss(R_train,R_valid, P, Q, K, steps, alpha,beta)\n",
    "    #print(loss)\n",
    "    plt.plot(loss, label='L_valid')\n",
    "    plt.legend()\n",
    "    plt.show()"
   ]
  },
  {
   "cell_type": "code",
   "execution_count": 11,
   "metadata": {},
   "outputs": [
    {
     "data": {
      "image/png": "[encoded data removed]",
      "text/plain": [
       "<matplotlib.figure.Figure at 0x29a0b9cc828>"
      ]
     },
     "metadata": {},
     "output_type": "display_data"
    }
   ],
   "source": [
    "runMain()"
   ]
  },
  {
   "cell_type": "code",
   "execution_count": null,
   "metadata": {},
   "outputs": [],
   "source": []
  }
 ],
 "metadata": {
  "kernelspec": {
   "display_name": "Python 3",
   "language": "python",
   "name": "python3"
  },
  "language_info": {
   "codemirror_mode": {
    "name": "ipython",
    "version": 3
   },
   "file_extension": ".py",
   "mimetype": "text/x-python",
   "name": "python",
   "nbconvert_exporter": "python",
   "pygments_lexer": "ipython3",
   "version": "3.6.3"
  }
 },
 "nbformat": 4,
 "nbformat_minor": 2
}
